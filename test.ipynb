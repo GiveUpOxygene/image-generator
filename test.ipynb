{
 "cells": [
  {
   "cell_type": "code",
   "execution_count": 1,
   "metadata": {},
   "outputs": [],
   "source": [
    "from src import ImagePixelExtractor"
   ]
  },
  {
   "cell_type": "code",
   "execution_count": 4,
   "metadata": {},
   "outputs": [
    {
     "name": "stdout",
     "output_type": "stream",
     "text": [
      "Extracting pixel values from directory: ./chest_Xray/val/PNEUMONIA at coordinates (0, 0)\n",
      "Image opened successfully: ./chest_Xray/val/PNEUMONIA/person1949_bacteria_4880.jpeg\n",
      "Processing file: person1949_bacteria_4880.jpeg\n",
      "Image opened successfully: ./chest_Xray/val/PNEUMONIA/person1947_bacteria_4876.jpeg\n",
      "Processing file: person1947_bacteria_4876.jpeg\n",
      "Image opened successfully: ./chest_Xray/val/PNEUMONIA/person1950_bacteria_4881.jpeg\n",
      "Processing file: person1950_bacteria_4881.jpeg\n",
      "Image opened successfully: ./chest_Xray/val/PNEUMONIA/person1952_bacteria_4883.jpeg\n",
      "Processing file: person1952_bacteria_4883.jpeg\n",
      "Image opened successfully: ./chest_Xray/val/PNEUMONIA/person1946_bacteria_4875.jpeg\n",
      "Processing file: person1946_bacteria_4875.jpeg\n",
      "Image opened successfully: ./chest_Xray/val/PNEUMONIA/person1951_bacteria_4882.jpeg\n",
      "Processing file: person1951_bacteria_4882.jpeg\n",
      "Image opened successfully: ./chest_Xray/val/PNEUMONIA/person1954_bacteria_4886.jpeg\n",
      "Processing file: person1954_bacteria_4886.jpeg\n",
      "Image opened successfully: ./chest_Xray/val/PNEUMONIA/person1946_bacteria_4874.jpeg\n",
      "Processing file: person1946_bacteria_4874.jpeg\n"
     ]
    }
   ],
   "source": [
    "tab = ImagePixelExtractor.extract_pixel_values_from_directory(\"./chest_Xray/val/PNEUMONIA\", 0,0)"
   ]
  },
  {
   "cell_type": "code",
   "execution_count": 5,
   "metadata": {},
   "outputs": [
    {
     "data": {
      "text/plain": [
       "8"
      ]
     },
     "execution_count": 5,
     "metadata": {},
     "output_type": "execute_result"
    }
   ],
   "source": [
    "tab.size"
   ]
  }
 ],
 "metadata": {
  "kernelspec": {
   "display_name": "image-generator",
   "language": "python",
   "name": "python3"
  },
  "language_info": {
   "codemirror_mode": {
    "name": "ipython",
    "version": 3
   },
   "file_extension": ".py",
   "mimetype": "text/x-python",
   "name": "python",
   "nbconvert_exporter": "python",
   "pygments_lexer": "ipython3",
   "version": "3.13.5"
  }
 },
 "nbformat": 4,
 "nbformat_minor": 2
}
